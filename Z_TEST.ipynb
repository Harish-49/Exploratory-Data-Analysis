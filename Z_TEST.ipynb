{
 "cells": [
  {
   "cell_type": "markdown",
   "metadata": {},
   "source": [
    "Case 1\n",
    "CPVID 19 Drug effectiveness analysis\n",
    "A drug company has developed a drug to help patients recover faster than usual. In genenral,\n",
    "it is knowns, assumed and proven that it takes almost an average of 14 days for a patient to\n",
    "recover from COVID 19.\n",
    "\n",
    "The company has developed the drug and they wish to test the effectiveness of the drug.\n",
    "For that purpose, they injected the drug to randomly picked 15 patients on day 1 of their covid result considering it was day 1 of infection.\n",
    "\n",
    "They noted down the data of number of days these patients took to recover, the data is as following - \n",
    "\n",
    "recovery_days = [8,9,10,8,7,11,12,11,9,8,7,12,11,12,8,9]\n",
    "\n",
    "Apply statistical approach to prove whether the drug has been effective or not."
   ]
  },
  {
   "cell_type": "markdown",
   "metadata": {},
   "source": [
    "# Z-test"
   ]
  },
  {
   "cell_type": "code",
   "execution_count": 1,
   "metadata": {},
   "outputs": [],
   "source": [
    "import numpy as np\n",
    "from statsmodels.stats.weightstats import ztest"
   ]
  },
  {
   "cell_type": "code",
   "execution_count": 2,
   "metadata": {},
   "outputs": [],
   "source": [
    "sample = [8,9,10,8,7,11,12,11,9,8,7,12,11,12,8,9]"
   ]
  },
  {
   "cell_type": "code",
   "execution_count": 3,
   "metadata": {},
   "outputs": [],
   "source": [
    "popmean=14"
   ]
  },
  {
   "cell_type": "markdown",
   "metadata": {},
   "source": [
    "# Case 1"
   ]
  },
  {
   "cell_type": "code",
   "execution_count": 4,
   "metadata": {},
   "outputs": [
    {
     "data": {
      "text/plain": [
       "1.7320508075688772"
      ]
     },
     "execution_count": 4,
     "metadata": {},
     "output_type": "execute_result"
    }
   ],
   "source": [
    "popstd=np.std(sample)\n",
    "popstd"
   ]
  },
  {
   "cell_type": "code",
   "execution_count": 5,
   "metadata": {},
   "outputs": [],
   "source": [
    "ztest_value,p_value=ztest(sample,value=popmean)#[12.3-15.7]"
   ]
  },
  {
   "cell_type": "code",
   "execution_count": 6,
   "metadata": {},
   "outputs": [
    {
     "name": "stdout",
     "output_type": "stream",
     "text": [
      "-10.062305898749054\n",
      "8.107671698366979e-24\n"
     ]
    }
   ],
   "source": [
    "print(ztest_value)\n",
    "print(p_value)"
   ]
  },
  {
   "cell_type": "code",
   "execution_count": 7,
   "metadata": {},
   "outputs": [
    {
     "name": "stdout",
     "output_type": "stream",
     "text": [
      "0.68\n"
     ]
    }
   ],
   "source": [
    "cf=68/100\n",
    "print(cf)"
   ]
  },
  {
   "cell_type": "code",
   "execution_count": 8,
   "metadata": {},
   "outputs": [
    {
     "name": "stdout",
     "output_type": "stream",
     "text": [
      "0.31999999999999995\n"
     ]
    }
   ],
   "source": [
    "alpha=1-cf\n",
    "print(alpha)"
   ]
  },
  {
   "cell_type": "code",
   "execution_count": 9,
   "metadata": {},
   "outputs": [
    {
     "name": "stdout",
     "output_type": "stream",
     "text": [
      "NH Reject\n",
      "Drug is effective\n"
     ]
    }
   ],
   "source": [
    "if (p_value>alpha):\n",
    "    print(\"NH Accept\")\n",
    "    print(\"Drug is not effective\")\n",
    "    \n",
    "else:\n",
    "    print(\"NH Reject\")\n",
    "    print(\"Drug is effective\")\n",
    "   "
   ]
  },
  {
   "cell_type": "markdown",
   "metadata": {},
   "source": [
    "# Case 2 "
   ]
  },
  {
   "cell_type": "code",
   "execution_count": 10,
   "metadata": {},
   "outputs": [
    {
     "data": {
      "text/plain": [
       "3.4641016151377544"
      ]
     },
     "execution_count": 10,
     "metadata": {},
     "output_type": "execute_result"
    }
   ],
   "source": [
    "popstd=popstd*2\n",
    "popstd"
   ]
  },
  {
   "cell_type": "code",
   "execution_count": 11,
   "metadata": {},
   "outputs": [],
   "source": [
    "ztest_value,p_value=ztest(sample,value=popmean)#[10.6-17.4]"
   ]
  },
  {
   "cell_type": "code",
   "execution_count": 12,
   "metadata": {},
   "outputs": [
    {
     "name": "stdout",
     "output_type": "stream",
     "text": [
      "-10.062305898749054\n",
      "8.107671698366979e-24\n"
     ]
    }
   ],
   "source": [
    "print(ztest_value)\n",
    "print(p_value)"
   ]
  },
  {
   "cell_type": "code",
   "execution_count": 13,
   "metadata": {},
   "outputs": [
    {
     "name": "stdout",
     "output_type": "stream",
     "text": [
      "0.95\n"
     ]
    }
   ],
   "source": [
    "cf=95/100\n",
    "print(cf)"
   ]
  },
  {
   "cell_type": "code",
   "execution_count": 14,
   "metadata": {},
   "outputs": [
    {
     "name": "stdout",
     "output_type": "stream",
     "text": [
      "0.050000000000000044\n"
     ]
    }
   ],
   "source": [
    "alpha=1-cf\n",
    "print(alpha)"
   ]
  },
  {
   "cell_type": "code",
   "execution_count": 15,
   "metadata": {},
   "outputs": [
    {
     "name": "stdout",
     "output_type": "stream",
     "text": [
      "NH Reject\n",
      "Drug is effective\n"
     ]
    }
   ],
   "source": [
    "if (p_value>alpha):\n",
    "    print(\"NH Accept\")\n",
    "    print(\"Drug is not effective\")\n",
    "    \n",
    "else:\n",
    "    print(\"NH Reject\")\n",
    "    print(\"Drug is effective\")\n",
    "   "
   ]
  },
  {
   "cell_type": "markdown",
   "metadata": {},
   "source": [
    "# T-test"
   ]
  },
  {
   "cell_type": "code",
   "execution_count": 17,
   "metadata": {},
   "outputs": [],
   "source": [
    "from scipy import stats\n",
    "ttest,p=stats.ttest_1samp(a=sample,popmean=75)"
   ]
  },
  {
   "cell_type": "code",
   "execution_count": 18,
   "metadata": {},
   "outputs": [
    {
     "name": "stdout",
     "output_type": "stream",
     "text": [
      "4.358213705203733e-25\n",
      "-146.46245252623623\n"
     ]
    }
   ],
   "source": [
    "print(p)\n",
    "print(ttest)"
   ]
  },
  {
   "cell_type": "code",
   "execution_count": 19,
   "metadata": {},
   "outputs": [
    {
     "name": "stdout",
     "output_type": "stream",
     "text": [
      "NH Reject\n",
      "Drug is effective\n"
     ]
    }
   ],
   "source": [
    "if (p_value>0.05):\n",
    "    print(\"NH Accept\")\n",
    "    print(\"Drug is not effective\")\n",
    "    \n",
    "else:\n",
    "    print(\"NH Reject\")\n",
    "    print(\"Drug is effective\")\n",
    "   "
   ]
  },
  {
   "cell_type": "code",
   "execution_count": null,
   "metadata": {},
   "outputs": [],
   "source": []
  }
 ],
 "metadata": {
  "kernelspec": {
   "display_name": "Python 3",
   "language": "python",
   "name": "python3"
  },
  "language_info": {
   "codemirror_mode": {
    "name": "ipython",
    "version": 3
   },
   "file_extension": ".py",
   "mimetype": "text/x-python",
   "name": "python",
   "nbconvert_exporter": "python",
   "pygments_lexer": "ipython3",
   "version": "3.8.3"
  }
 },
 "nbformat": 4,
 "nbformat_minor": 4
}
